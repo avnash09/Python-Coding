{
 "cells": [
  {
   "cell_type": "code",
   "execution_count": 45,
   "metadata": {},
   "outputs": [],
   "source": [
    "word = 'SPEW'"
   ]
  },
  {
   "cell_type": "code",
   "execution_count": 46,
   "metadata": {},
   "outputs": [],
   "source": [
    "import requests, bs4"
   ]
  },
  {
   "cell_type": "code",
   "execution_count": 47,
   "metadata": {},
   "outputs": [],
   "source": [
    "url = f'https://api.dictionaryapi.dev/api/v2/entries/en/{word}'"
   ]
  },
  {
   "cell_type": "code",
   "execution_count": 48,
   "metadata": {},
   "outputs": [
    {
     "data": {
      "text/plain": [
       "{'word': 'spew',\n",
       " 'phonetic': '/spjuː/',\n",
       " 'phonetics': [{'text': '/spjuː/',\n",
       "   'audio': 'https://api.dictionaryapi.dev/media/pronunciations/en/spew-us.mp3',\n",
       "   'sourceUrl': 'https://commons.wikimedia.org/w/index.php?curid=1769524',\n",
       "   'license': {'name': 'BY-SA 3.0',\n",
       "    'url': 'https://creativecommons.org/licenses/by-sa/3.0'}}],\n",
       " 'meanings': [{'partOfSpeech': 'noun',\n",
       "   'definitions': [{'definition': 'Vomit', 'synonyms': [], 'antonyms': []},\n",
       "    {'definition': 'Ejaculate or ejaculation.',\n",
       "     'synonyms': [],\n",
       "     'antonyms': []},\n",
       "    {'definition': 'Nonsense or lies.', 'synonyms': [], 'antonyms': []},\n",
       "    {'definition': 'Material that has been ejected in a stream, or the act of spewing.',\n",
       "     'synonyms': [],\n",
       "     'antonyms': []},\n",
       "    {'definition': 'A white powder or dark crystals that appear on the surface of improperly tanned leather.',\n",
       "     'synonyms': [],\n",
       "     'antonyms': []},\n",
       "    {'definition': 'Adhesive that is squeezed from a joint under pressure and held across the joint by a fillet, thereby strengthening the joint.',\n",
       "     'synonyms': [],\n",
       "     'antonyms': []}],\n",
       "   'synonyms': [],\n",
       "   'antonyms': []},\n",
       "  {'partOfSpeech': 'verb',\n",
       "   'definitions': [{'definition': 'To eject forcibly and in a stream',\n",
       "     'synonyms': [],\n",
       "     'antonyms': []},\n",
       "    {'definition': 'To speak or write quickly and voluminously, especially words that are not worth listening to or reading.',\n",
       "     'synonyms': [],\n",
       "     'antonyms': []},\n",
       "    {'definition': 'To vomit', 'synonyms': [], 'antonyms': []},\n",
       "    {'definition': 'To ejaculate', 'synonyms': [], 'antonyms': []},\n",
       "    {'definition': '(leather-working) To develop a white powder or dark crystals on the surface of finished leather, as a result from improper tanning.',\n",
       "     'synonyms': [],\n",
       "     'antonyms': []}],\n",
       "   'synonyms': [],\n",
       "   'antonyms': []}],\n",
       " 'license': {'name': 'CC BY-SA 3.0',\n",
       "  'url': 'https://creativecommons.org/licenses/by-sa/3.0'},\n",
       " 'sourceUrls': ['https://en.wiktionary.org/wiki/spew']}"
      ]
     },
     "execution_count": 48,
     "metadata": {},
     "output_type": "execute_result"
    }
   ],
   "source": [
    "res = requests.get(url)\n",
    "res.json()[0]"
   ]
  },
  {
   "cell_type": "code",
   "execution_count": 49,
   "metadata": {},
   "outputs": [
    {
     "data": {
      "text/plain": [
       "[{'partOfSpeech': 'noun',\n",
       "  'definitions': [{'definition': 'Vomit', 'synonyms': [], 'antonyms': []},\n",
       "   {'definition': 'Ejaculate or ejaculation.', 'synonyms': [], 'antonyms': []},\n",
       "   {'definition': 'Nonsense or lies.', 'synonyms': [], 'antonyms': []},\n",
       "   {'definition': 'Material that has been ejected in a stream, or the act of spewing.',\n",
       "    'synonyms': [],\n",
       "    'antonyms': []},\n",
       "   {'definition': 'A white powder or dark crystals that appear on the surface of improperly tanned leather.',\n",
       "    'synonyms': [],\n",
       "    'antonyms': []},\n",
       "   {'definition': 'Adhesive that is squeezed from a joint under pressure and held across the joint by a fillet, thereby strengthening the joint.',\n",
       "    'synonyms': [],\n",
       "    'antonyms': []}],\n",
       "  'synonyms': [],\n",
       "  'antonyms': []},\n",
       " {'partOfSpeech': 'verb',\n",
       "  'definitions': [{'definition': 'To eject forcibly and in a stream',\n",
       "    'synonyms': [],\n",
       "    'antonyms': []},\n",
       "   {'definition': 'To speak or write quickly and voluminously, especially words that are not worth listening to or reading.',\n",
       "    'synonyms': [],\n",
       "    'antonyms': []},\n",
       "   {'definition': 'To vomit', 'synonyms': [], 'antonyms': []},\n",
       "   {'definition': 'To ejaculate', 'synonyms': [], 'antonyms': []},\n",
       "   {'definition': '(leather-working) To develop a white powder or dark crystals on the surface of finished leather, as a result from improper tanning.',\n",
       "    'synonyms': [],\n",
       "    'antonyms': []}],\n",
       "  'synonyms': [],\n",
       "  'antonyms': []}]"
      ]
     },
     "execution_count": 49,
     "metadata": {},
     "output_type": "execute_result"
    }
   ],
   "source": [
    "meanings = res.json()[0]['meanings']\n",
    "meanings"
   ]
  },
  {
   "cell_type": "code",
   "execution_count": 50,
   "metadata": {},
   "outputs": [
    {
     "name": "stdout",
     "output_type": "stream",
     "text": [
      "Vomit\n",
      "Ejaculate or ejaculation.\n",
      "Nonsense or lies.\n",
      "Material that has been ejected in a stream, or the act of spewing.\n",
      "A white powder or dark crystals that appear on the surface of improperly tanned leather.\n",
      "Adhesive that is squeezed from a joint under pressure and held across the joint by a fillet, thereby strengthening the joint.\n",
      "To eject forcibly and in a stream\n",
      "To speak or write quickly and voluminously, especially words that are not worth listening to or reading.\n",
      "To vomit\n",
      "To ejaculate\n",
      "(leather-working) To develop a white powder or dark crystals on the surface of finished leather, as a result from improper tanning.\n"
     ]
    }
   ],
   "source": [
    "for meaning in meanings:\n",
    "    for definition in meaning['definitions']:\n",
    "        print(definition['definition'])"
   ]
  },
  {
   "cell_type": "code",
   "execution_count": 51,
   "metadata": {},
   "outputs": [
    {
     "data": {
      "text/plain": [
       "'Vomit'"
      ]
     },
     "execution_count": 51,
     "metadata": {},
     "output_type": "execute_result"
    }
   ],
   "source": [
    "meanings[0]['definitions'][0]['definition']"
   ]
  },
  {
   "cell_type": "code",
   "execution_count": 52,
   "metadata": {},
   "outputs": [
    {
     "data": {
      "text/plain": [
       "'verb'"
      ]
     },
     "execution_count": 52,
     "metadata": {},
     "output_type": "execute_result"
    }
   ],
   "source": [
    "meanings[1]['partOfSpeech']"
   ]
  }
 ],
 "metadata": {
  "kernelspec": {
   "display_name": "Python 3",
   "language": "python",
   "name": "python3"
  },
  "language_info": {
   "codemirror_mode": {
    "name": "ipython",
    "version": 3
   },
   "file_extension": ".py",
   "mimetype": "text/x-python",
   "name": "python",
   "nbconvert_exporter": "python",
   "pygments_lexer": "ipython3",
   "version": "3.12.6"
  }
 },
 "nbformat": 4,
 "nbformat_minor": 2
}
