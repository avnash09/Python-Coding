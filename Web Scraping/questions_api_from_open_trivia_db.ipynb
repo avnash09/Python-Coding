{
 "cells": [
  {
   "cell_type": "markdown",
   "id": "0b2c4c48",
   "metadata": {},
   "source": [
    "# Web scraping\n",
    "## Getting questions from Open Trivia DB for Quiz game"
   ]
  },
  {
   "cell_type": "code",
   "execution_count": null,
   "id": "ab38f31f",
   "metadata": {},
   "outputs": [],
   "source": [
    "import requests\n",
    "url = \"https://opentdb.com/api.php\" #?amount=10&difficulty=easy&type=boolean\"\n",
    "parameters = {\"amount\":10, \"difficulty\":\"easy\", \"type\":\"boolean\"}\n",
    "response = requests.get(url, params=parameters)\n",
    "result = response.json()\n",
    "questions = result[\"results\"]\n",
    "print(type(questions))\n",
    "\n",
    "for question in questions:\n",
    "    print(question)"
   ]
  }
 ],
 "metadata": {
  "kernelspec": {
   "display_name": "Python 3",
   "language": "python",
   "name": "python3"
  },
  "language_info": {
   "name": "python",
   "version": "3.12.6"
  }
 },
 "nbformat": 4,
 "nbformat_minor": 5
}
