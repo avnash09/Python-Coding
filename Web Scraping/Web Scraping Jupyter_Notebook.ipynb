{
 "cells": [
  {
   "cell_type": "code",
   "execution_count": 1,
   "metadata": {},
   "outputs": [],
   "source": [
    "import requests"
   ]
  },
  {
   "cell_type": "code",
   "execution_count": null,
   "metadata": {},
   "outputs": [],
   "source": [
    "response = requests.get('https://www.example.com/')"
   ]
  },
  {
   "cell_type": "code",
   "execution_count": 4,
   "metadata": {},
   "outputs": [
    {
     "data": {
      "text/plain": [
       "'<!doctype html>\\n<html>\\n<head>\\n    <title>Example Domain</title>\\n\\n    <meta charset=\"utf-8\" />\\n    <meta http-equiv=\"Content-type\" content=\"text/html; charset=utf-8\" />\\n    <meta name=\"viewport\" content=\"width=device-width, initial-scale=1\" />\\n    <style type=\"text/css\">\\n    body {\\n        background-color: #f0f0f2;\\n        margin: 0;\\n        padding: 0;\\n        font-family: -apple-system, system-ui, BlinkMacSystemFont, \"Segoe UI\", \"Open Sans\", \"Helvetica Neue\", Helvetica, Arial, sans-serif;\\n        \\n    }\\n    div {\\n        width: 600px;\\n        margin: 5em auto;\\n        padding: 2em;\\n        background-color: #fdfdff;\\n        border-radius: 0.5em;\\n        box-shadow: 2px 3px 7px 2px rgba(0,0,0,0.02);\\n    }\\n    a:link, a:visited {\\n        color: #38488f;\\n        text-decoration: none;\\n    }\\n    @media (max-width: 700px) {\\n        div {\\n            margin: 0 auto;\\n            width: auto;\\n        }\\n    }\\n    </style>    \\n</head>\\n\\n<body>\\n<div>\\n    <h1>Example Domain</h1>\\n    <p>This domain is for use in illustrative examples in documents. You may use this\\n    domain in literature without prior coordination or asking for permission.</p>\\n    <p><a href=\"https://www.iana.org/domains/example\">More information...</a></p>\\n</div>\\n</body>\\n</html>\\n'"
      ]
     },
     "execution_count": 4,
     "metadata": {},
     "output_type": "execute_result"
    }
   ],
   "source": [
    "type(response)\n",
    "response.text"
   ]
  },
  {
   "cell_type": "code",
   "execution_count": 5,
   "metadata": {},
   "outputs": [],
   "source": [
    "import bs4"
   ]
  },
  {
   "cell_type": "code",
   "execution_count": 10,
   "metadata": {},
   "outputs": [
    {
     "data": {
      "text/plain": [
       "bs4.BeautifulSoup"
      ]
     },
     "execution_count": 10,
     "metadata": {},
     "output_type": "execute_result"
    }
   ],
   "source": [
    "soup = bs4.BeautifulSoup(response.text, 'lxml')\n",
    "type(soup)"
   ]
  },
  {
   "cell_type": "code",
   "execution_count": null,
   "metadata": {},
   "outputs": [],
   "source": [
    "soup"
   ]
  },
  {
   "cell_type": "code",
   "execution_count": 16,
   "metadata": {},
   "outputs": [
    {
     "data": {
      "text/plain": [
       "[<title>Example Domain</title>]"
      ]
     },
     "execution_count": 16,
     "metadata": {},
     "output_type": "execute_result"
    }
   ],
   "source": [
    "soup.select('title') #returns a list"
   ]
  },
  {
   "cell_type": "code",
   "execution_count": 18,
   "metadata": {},
   "outputs": [
    {
     "data": {
      "text/plain": [
       "<title>Example Domain</title>"
      ]
     },
     "execution_count": 18,
     "metadata": {},
     "output_type": "execute_result"
    }
   ],
   "source": [
    "soup.select('title')[0]"
   ]
  },
  {
   "cell_type": "code",
   "execution_count": 19,
   "metadata": {},
   "outputs": [
    {
     "data": {
      "text/plain": [
       "'Example Domain'"
      ]
     },
     "execution_count": 19,
     "metadata": {},
     "output_type": "execute_result"
    }
   ],
   "source": [
    "soup.select('title')[0].getText()"
   ]
  },
  {
   "cell_type": "code",
   "execution_count": 28,
   "metadata": {},
   "outputs": [
    {
     "data": {
      "text/plain": [
       "'This domain is for use in illustrative examples in documents. You may use this\\n    domain in literature without prior coordination or asking for permission.'"
      ]
     },
     "execution_count": 28,
     "metadata": {},
     "output_type": "execute_result"
    }
   ],
   "source": [
    "soup.select('p')[0].getText()"
   ]
  },
  {
   "cell_type": "markdown",
   "metadata": {},
   "source": [
    "# Grace Hopper Wiki Page\n",
    "\n",
    "## Trying to scrap the wiki page of Grace Hopper"
   ]
  },
  {
   "cell_type": "code",
   "execution_count": 29,
   "metadata": {},
   "outputs": [],
   "source": [
    "res = requests.get('https://en.wikipedia.org/wiki/Grace_Hopper')"
   ]
  },
  {
   "cell_type": "code",
   "execution_count": null,
   "metadata": {},
   "outputs": [
    {
     "data": {
      "text/plain": [
       "[<span class=\"vector-toc-numb\">1</span>,\n",
       " <span>Early life and education</span>,\n",
       " <span class=\"vector-toc-numb\">2</span>,\n",
       " <span>Career</span>,\n",
       " <span class=\"vector-toc-numb\">2.1</span>,\n",
       " <span>World War II</span>,\n",
       " <span class=\"vector-toc-numb\">2.2</span>,\n",
       " <span>UNIVAC</span>,\n",
       " <span class=\"vector-toc-numb\">2.3</span>,\n",
       " <span>COBOL</span>,\n",
       " <span class=\"vector-toc-numb\">2.4</span>,\n",
       " <span>Standards</span>,\n",
       " <span class=\"vector-toc-numb\">3</span>,\n",
       " <span>Retirement</span>,\n",
       " <span class=\"vector-toc-numb\">4</span>,\n",
       " <span>Post-retirement</span>,\n",
       " <span class=\"vector-toc-numb\">5</span>,\n",
       " <span>Anecdotes</span>,\n",
       " <span class=\"vector-toc-numb\">6</span>,\n",
       " <span>Death</span>,\n",
       " <span class=\"vector-toc-numb\">7</span>,\n",
       " <span>Dates of rank</span>,\n",
       " <span class=\"vector-toc-numb\">8</span>,\n",
       " <span>Awards and honors</span>,\n",
       " <span class=\"vector-toc-numb\">8.1</span>,\n",
       " <span>Military awards</span>,\n",
       " <span class=\"vector-toc-numb\">8.2</span>,\n",
       " <span>Other awards</span>,\n",
       " <span class=\"vector-toc-numb\">9</span>,\n",
       " <span>Legacy</span>,\n",
       " <span class=\"vector-toc-numb\">9.1</span>,\n",
       " <span>Places</span>,\n",
       " <span class=\"vector-toc-numb\">9.2</span>,\n",
       " <span>Programs</span>,\n",
       " <span class=\"vector-toc-numb\">9.3</span>,\n",
       " <span>In popular culture</span>,\n",
       " <span class=\"vector-toc-numb\">9.3.1</span>,\n",
       " <span>Grace Hopper Celebration of Women in Computing</span>,\n",
       " <span class=\"vector-toc-numb\">10</span>,\n",
       " <span>See also</span>,\n",
       " <span class=\"vector-toc-numb\">11</span>,\n",
       " <span>Notes</span>,\n",
       " <span class=\"vector-toc-numb\">12</span>,\n",
       " <span>References</span>,\n",
       " <span class=\"vector-toc-numb\">13</span>,\n",
       " <span>Obituary notices</span>,\n",
       " <span class=\"vector-toc-numb\">14</span>,\n",
       " <span>Further reading</span>,\n",
       " <span class=\"vector-toc-numb\">15</span>,\n",
       " <span>External links</span>]"
      ]
     },
     "execution_count": 63,
     "metadata": {},
     "output_type": "execute_result"
    }
   ],
   "source": [
    "soup = bs4.BeautifulSoup(res.text, 'lxml')\n",
    "soup.select('div .vector-toc-text > span')"
   ]
  },
  {
   "cell_type": "code",
   "execution_count": 66,
   "metadata": {},
   "outputs": [],
   "source": [
    "res = requests.get('https://en.wikipedia.org/wiki/Deep_Blue_(chess_computer)')\n",
    "soup = bs4.BeautifulSoup(res.text, 'lxml')"
   ]
  },
  {
   "cell_type": "code",
   "execution_count": 92,
   "metadata": {},
   "outputs": [
    {
     "data": {
      "text/plain": [
       "'//upload.wikimedia.org/wikipedia/en/thumb/9/94/Symbol_support_vote.svg/19px-Symbol_support_vote.svg.png'"
      ]
     },
     "execution_count": 92,
     "metadata": {},
     "output_type": "execute_result"
    }
   ],
   "source": [
    "image = soup.select('.mw-file-element')[0]\n",
    "image['src']"
   ]
  },
  {
   "cell_type": "code",
   "execution_count": 86,
   "metadata": {},
   "outputs": [
    {
     "data": {
      "text/plain": [
       "'https://upload.wikimedia.org/wikipedia/en/thumb/9/94/Symbol_support_vote.svg/19px-Symbol_support_vote.svg.png'"
      ]
     },
     "execution_count": 86,
     "metadata": {},
     "output_type": "execute_result"
    }
   ],
   "source": [
    "image_src = 'https:'+image['src']\n",
    "image_src"
   ]
  },
  {
   "cell_type": "code",
   "execution_count": 98,
   "metadata": {},
   "outputs": [],
   "source": [
    "import re\n",
    "image_name = re.search(r'[.\\w]+.png$', image_src).group()"
   ]
  },
  {
   "cell_type": "code",
   "execution_count": 87,
   "metadata": {},
   "outputs": [],
   "source": [
    "image_link = requests.get(image_src)"
   ]
  },
  {
   "cell_type": "code",
   "execution_count": 88,
   "metadata": {},
   "outputs": [
    {
     "data": {
      "text/plain": [
       "b'\\x89PNG\\r\\n\\x1a\\n\\x00\\x00\\x00\\rIHDR\\x00\\x00\\x00\\x13\\x00\\x00\\x00\\x14\\x08\\x03\\x00\\x00\\x00X\\x8b\\xf6F\\x00\\x00\\x00\\x04gAMA\\x00\\x00\\xb1\\x8f\\x0b\\xfca\\x05\\x00\\x00\\x00 cHRM\\x00\\x00z&\\x00\\x00\\x80\\x84\\x00\\x00\\xfa\\x00\\x00\\x00\\x80\\xe8\\x00\\x00u0\\x00\\x00\\xea`\\x00\\x00:\\x98\\x00\\x00\\x17p\\x9c\\xbaQ<\\x00\\x00\\x01\\xe0PLTE\\x00\\x00\\x00\\x00\\x00\\x00\\x00N\\x19\\x00^\\x1f\\x00` \\x00e\"\\x00g!\\x00f$\\x00\\x00\\x00\\x00C\\x16\\x00_\\x1f\\x00f\"\\x00f!\\x00f \\x00\\x00\\x00\\x00N\\x1a\\x00f\"\\x00f\"\\x00e\"\\x00H\\x18\\x00f\"\\x00f!\\x00\\x1e\\x0b\\x00e\"\\x00f\"\\x00c!\\x00\\x00\\x00\\x00X\\x1d\\x00g\"\\x00\\x00\\x00\\x00\\t\\x05\\x00d!\\x00f\"\\x00a$\\x00\\x00\\x00\\x007\\x13\\x00g#\\x00\\x00\\x00\\x00J\\x19\\x00f\"\\x00\\x00\\x00\\x00e!\\x00\\x00\\x00\\x00H\\x17\\x00f#\\x00\\x00\\x00\\x005\\x12\\x00f\"\\x00\\x00\\x00\\x00\\x00\\x00\\x00e!\\x00e#\\x00\\x00\\x00\\x00\\x00\\x00\\x00W\\x1d\\x00f!\\x00f3\\x00$\\x0b\\x00e\"\\x00e!\\x00\\x00\\x00\\x00f\"\\x00f\"\\x00m$\\x00\\x00\\x00\\x00\\x00\\x00\\x00Q\\x1c\\x00f\"\\x00f\\x1f\\x00C\\x15\\x00d!\\x00e!\\x00f\"\\x00\\r\\x07\\x00L\\x1a\\x00\\\\\\x1f\\x00b!\\x00c!\\x00b!\\x00b \\x00g!\\x00\\x00\\x00\\x00f\"-\\x82Ht\\xad\\x84\\x97\\xc2\\xa2\\x9c\\xc6\\xa6u\\xae\\x85+\\x81F\\x0cm,\\x92\\xc0\\x9d\\xdd\\xee\\xdd\\x93\\xc1\\x9e\\x10p0\\tk*\\xb0\\xd2\\xb7\\xc6\\xe0\\xca\\xd7\\xea\\xd8\\xb5\\xd5\\xbb\\x7f\\xb4\\x8e\\xbf\\xdb\\xc4\\xac\\xd0\\xb4\\x94\\xc2\\x9f\\x18u6\\xda\\xec\\xdb\\x04i%\\x8f\\xbe\\x9b1\\x84L_\\xa1r\\x1ey;r\\xac\\x83\\x85\\xb8\\x93\\x88\\xba\\x95>\\x8cWF\\x92]\\x9f\\xc8\\xa9\\x7f\\xb4\\x8d`\\xa2s\\xb9\\xd8\\xbf\\xba\\xd9\\xbf^\\xa0r>\\x8cV\\x1fz<\\x03h$\\xcd\\xe4\\xcf\\x8a\\xba\\x97\\xaa\\xcf\\xb2\\x14r36\\x87PW\\x9blD\\x90\\\\\\x06j\\'\\xae\\xd2\\xb5\\xca\\xe2\\xcd^\\xa0q\\x9b\\xc5\\xa5\\xcc\\xe3\\xcf\\xa8\\xcd\\xb0\\x1av8\\xac\\xd0\\xb3f\\xa5x\\x86\\xb9\\x93\\x03h%\\x8e\\xbd\\x9a\\xce\\xe5\\xd0\\rn-\\xbb\\xda\\xc0\\x81\\xb5\\x8f\\xb9\\xd8\\xbe\\xdc\\xed\\xdcL\\x95b\\x16s5\\xad\\xd1\\xb4V\\x9akT\\x9ai\\xa9\\xce\\xb1\\xd4\\xe9\\xd5\\x85\\xb8\\x92 z=\\xff\\xff\\xff\\x99\\xa8\\xd5\\x8f\\x00\\x00\\x00RtRNS\\x00\\x024u\\x8f\\x89c#\\tP\\xcc\\xfd\\xb7(\\x15\\x82\\xfa\\xf6[u\\xfcUC\\xf3\\xf0\\x1f%\\xa5\\x9f\\x066\\xed\\xf8\\x15\\x16\\\\W\\x1ey\\x8f\"\\xa1\\x1fx\\xa2\\x19V\\x80\\r4\\xeeI\\x01,\\x9e\\xec\\x05F\\xf1t&\\xfe\\xcb\\x07\\x04*\\x8a\\xd9\\x19k\\xe6\\xa9\\x0f\\'u\\xb7\\xdb\\xe1\\xcb\\x8f/\\x03e\\xd1\\xcf\\x00\\x00\\x00\\x00\\x01bKGD\\x9f\\xe8\\xb5\\x93\\x9d\\x00\\x00\\x00\\x07tIME\\x07\\xe8\\x06\\r\\x06\\x0c.?\\x07 C\\x00\\x00\\x01+IDAT\\x18\\xd3c`\\x00\\x03F&f\\x16V6v\\x06\\x04\\xe0\\xe0\\xe4\\n\\x02\\x01n\\x1e^\\x98\\x10\\x1f\\xbf@PpHhXxD\\x90\\xa0\\x10TH\\x98;2*\\x1a\\x0cbbED\\xc1\\x1a\\xc5\\xc4\\xe3\\xe2\\x81\\xfc\\x84D \\x91\\x14+!\\t\\x14\\x93\\x92\\x0eJ\\x06\\xf2R\\x82RA*\\xd3\\x82d\\x18\\x18d\\xe5\\xe4\\xd33\\x80\\x9c\\x8c\\xcc,\\xb0\\xf6l\\x05E\\x06%\\xe5\\xa0\\x1c0\\'7\\x0fL\\xe5\\x07\\xa90\\xa8\\xaa\\x05\\x15\\x809\\x85E\\xc5%\\xa5\\xa1\\xd1eA\\xea\\x0c\\x1a\\xfcA\\xa1\\xd1\\xe5\\x15\\x95U\\xd5@\\x07\\xc6\\x86D\\xd7\\x04i2hi\\x07\\xd5F\\xd7\\xd57465\\xb7\\xd4\\x00\\x95\\xb7\\x06\\xe90\\xe8\\xea\\x05\\xb5\\x81\\xf5\\xb6\\x07u\\x80\\xa8\\xce }\\x06\\x03C\\xa3.\\x90\\xbd\\xd1\\xe5A\\xdd \\xaa\\'\\xc8\\x98\\xc1\\xc4\\xd4,\\xa8\\x17\\xc4I\\xec\\xeb\\x07\\x92\\x13b\\xcd-\\x80^\\xb3\\xb4\\x9a8\\t$8yJt\\xf4\\xd4iA\\xd6 \\xcf\\xd9\\xa8\\xd9N\\x9f\\x01\\xf1o\\xe2\\xcc ;{\\x90\\x98\\x83\\xa3\\x93m\\xdf\\xac\\xd9s\\xa2\\x13\\xe6\\xce\\x0brv\\x81\\x04\\x8c\\x83\\x86\\xab\\x1b8\\xfc\\x82l\\xdd=\\xe0\\x81j\\xe0\\xe9\\xe5\\xed\\xe3\\xeb\\xe7\\x1f\\xc0\\x80\\x02\\x02\\x03\\xe1L\\x00\\x93\\xd3a\\xce*\\xf8\\x1fI\\x00\\x00\\x00%tEXtdate:create\\x002024-06-13T06:12:46+00:00\\xe1\\x8bj\\xb0\\x00\\x00\\x00%tEXtdate:modify\\x002024-06-13T06:12:46+00:00\\x90\\xd6\\xd2\\x0c\\x00\\x00\\x00\\x00IEND\\xaeB`\\x82'"
      ]
     },
     "execution_count": 88,
     "metadata": {},
     "output_type": "execute_result"
    }
   ],
   "source": [
    "image_link.content"
   ]
  },
  {
   "cell_type": "code",
   "execution_count": 100,
   "metadata": {},
   "outputs": [],
   "source": [
    "import os\n",
    "os.mkdir('scraped images')"
   ]
  },
  {
   "cell_type": "code",
   "execution_count": 102,
   "metadata": {},
   "outputs": [],
   "source": [
    "f = open('scraped images\\\\'+image_name, 'wb')\n",
    "f.write(image_link.content)\n",
    "f.close()"
   ]
  },
  {
   "cell_type": "markdown",
   "metadata": {},
   "source": [
    "# Scarping Images\n",
    "\n",
    "Creating a folder & downloading all images from a web page"
   ]
  },
  {
   "cell_type": "code",
   "execution_count": 103,
   "metadata": {},
   "outputs": [
    {
     "data": {
      "text/plain": [
       "[<img alt=\"This is a good article. Click here for more information.\" class=\"mw-file-element\" data-file-height=\"185\" data-file-width=\"180\" decoding=\"async\" height=\"20\" src=\"//upload.wikimedia.org/wikipedia/en/thumb/9/94/Symbol_support_vote.svg/19px-Symbol_support_vote.svg.png\" srcset=\"//upload.wikimedia.org/wikipedia/en/thumb/9/94/Symbol_support_vote.svg/29px-Symbol_support_vote.svg.png 1.5x, //upload.wikimedia.org/wikipedia/en/thumb/9/94/Symbol_support_vote.svg/39px-Symbol_support_vote.svg.png 2x\" width=\"19\"/>,\n",
       " <img class=\"mw-file-element\" data-file-height=\"601\" data-file-width=\"400\" decoding=\"async\" height=\"331\" src=\"//upload.wikimedia.org/wikipedia/commons/thumb/b/be/Deep_Blue.jpg/250px-Deep_Blue.jpg\" srcset=\"//upload.wikimedia.org/wikipedia/commons/thumb/b/be/Deep_Blue.jpg/330px-Deep_Blue.jpg 1.5x, //upload.wikimedia.org/wikipedia/commons/b/be/Deep_Blue.jpg 2x\" width=\"220\"/>,\n",
       " <img class=\"mw-file-element\" data-file-height=\"64\" data-file-width=\"64\" decoding=\"async\" height=\"150\" src=\"//upload.wikimedia.org/wikipedia/commons/thumb/5/52/Chess_Programming.svg/150px-Chess_Programming.svg.png\" srcset=\"//upload.wikimedia.org/wikipedia/commons/thumb/5/52/Chess_Programming.svg/225px-Chess_Programming.svg.png 1.5x, //upload.wikimedia.org/wikipedia/commons/thumb/5/52/Chess_Programming.svg/300px-Chess_Programming.svg.png 2x\" width=\"150\"/>,\n",
       " <img class=\"mw-file-element\" data-file-height=\"600\" data-file-width=\"800\" decoding=\"async\" height=\"165\" src=\"//upload.wikimedia.org/wikipedia/commons/thumb/6/6f/Kasparov_Magath_1985_Hamburg-2.png/220px-Kasparov_Magath_1985_Hamburg-2.png\" srcset=\"//upload.wikimedia.org/wikipedia/commons/thumb/6/6f/Kasparov_Magath_1985_Hamburg-2.png/330px-Kasparov_Magath_1985_Hamburg-2.png 1.5x, //upload.wikimedia.org/wikipedia/commons/thumb/6/6f/Kasparov_Magath_1985_Hamburg-2.png/440px-Kasparov_Magath_1985_Hamburg-2.png 2x\" width=\"220\"/>,\n",
       " <img class=\"mw-file-element\" data-file-height=\"2756\" data-file-width=\"2067\" decoding=\"async\" height=\"293\" src=\"//upload.wikimedia.org/wikipedia/commons/thumb/8/83/One_of_Deep_Blue%27s_processors_%282586060990%29.jpg/220px-One_of_Deep_Blue%27s_processors_%282586060990%29.jpg\" srcset=\"//upload.wikimedia.org/wikipedia/commons/thumb/8/83/One_of_Deep_Blue%27s_processors_%282586060990%29.jpg/330px-One_of_Deep_Blue%27s_processors_%282586060990%29.jpg 1.5x, //upload.wikimedia.org/wikipedia/commons/thumb/8/83/One_of_Deep_Blue%27s_processors_%282586060990%29.jpg/440px-One_of_Deep_Blue%27s_processors_%282586060990%29.jpg 2x\" width=\"220\"/>,\n",
       " <img alt=\"icon\" class=\"mw-file-element\" data-file-height=\"512\" data-file-width=\"512\" decoding=\"async\" height=\"28\" src=\"//upload.wikimedia.org/wikipedia/commons/thumb/0/05/Chess.svg/28px-Chess.svg.png\" srcset=\"//upload.wikimedia.org/wikipedia/commons/thumb/0/05/Chess.svg/42px-Chess.svg.png 1.5x, //upload.wikimedia.org/wikipedia/commons/thumb/0/05/Chess.svg/56px-Chess.svg.png 2x\" width=\"28\"/>,\n",
       " <img alt=\"icon\" class=\"mw-file-element\" data-file-height=\"512\" data-file-width=\"512\" decoding=\"async\" height=\"28\" src=\"//upload.wikimedia.org/wikipedia/commons/thumb/0/05/Chess.svg/28px-Chess.svg.png\" srcset=\"//upload.wikimedia.org/wikipedia/commons/thumb/0/05/Chess.svg/42px-Chess.svg.png 1.5x, //upload.wikimedia.org/wikipedia/commons/thumb/0/05/Chess.svg/56px-Chess.svg.png 2x\" width=\"28\"/>,\n",
       " <img alt=\"\" class=\"mw-file-element\" data-file-height=\"185\" data-file-width=\"180\" decoding=\"async\" height=\"16\" src=\"//upload.wikimedia.org/wikipedia/en/thumb/9/96/Symbol_category_class.svg/16px-Symbol_category_class.svg.png\" srcset=\"//upload.wikimedia.org/wikipedia/en/thumb/9/96/Symbol_category_class.svg/23px-Symbol_category_class.svg.png 1.5x, //upload.wikimedia.org/wikipedia/en/thumb/9/96/Symbol_category_class.svg/31px-Symbol_category_class.svg.png 2x\" width=\"16\"/>,\n",
       " <img alt=\"\" class=\"mw-file-element\" data-file-height=\"1376\" data-file-width=\"1024\" decoding=\"async\" height=\"16\" src=\"//upload.wikimedia.org/wikipedia/en/thumb/4/4a/Commons-logo.svg/20px-Commons-logo.svg.png\" srcset=\"//upload.wikimedia.org/wikipedia/en/thumb/4/4a/Commons-logo.svg/40px-Commons-logo.svg.png 2x\" width=\"12\"/>,\n",
       " <img alt=\"\" class=\"mw-file-element\" data-file-height=\"185\" data-file-width=\"180\" decoding=\"async\" height=\"16\" src=\"//upload.wikimedia.org/wikipedia/commons/thumb/8/83/Symbol_template_class_pink.svg/20px-Symbol_template_class_pink.svg.png\" srcset=\"//upload.wikimedia.org/wikipedia/commons/thumb/8/83/Symbol_template_class_pink.svg/40px-Symbol_template_class_pink.svg.png 1.5x\" width=\"16\"/>,\n",
       " <img alt=\"Edit this at Wikidata\" class=\"mw-file-element\" data-file-height=\"20\" data-file-width=\"20\" decoding=\"async\" height=\"10\" src=\"//upload.wikimedia.org/wikipedia/en/thumb/8/8a/OOjs_UI_icon_edit-ltr-progressive.svg/10px-OOjs_UI_icon_edit-ltr-progressive.svg.png\" srcset=\"//upload.wikimedia.org/wikipedia/en/thumb/8/8a/OOjs_UI_icon_edit-ltr-progressive.svg/15px-OOjs_UI_icon_edit-ltr-progressive.svg.png 1.5x, //upload.wikimedia.org/wikipedia/en/thumb/8/8a/OOjs_UI_icon_edit-ltr-progressive.svg/20px-OOjs_UI_icon_edit-ltr-progressive.svg.png 2x\" width=\"10\"/>]"
      ]
     },
     "execution_count": 103,
     "metadata": {},
     "output_type": "execute_result"
    }
   ],
   "source": [
    "images = soup.select('.mw-file-element')\n",
    "images"
   ]
  },
  {
   "cell_type": "code",
   "execution_count": 117,
   "metadata": {},
   "outputs": [
    {
     "name": "stdout",
     "output_type": "stream",
     "text": [
      "Folder successfully created\n"
     ]
    }
   ],
   "source": [
    "import re, os, send2trash\n",
    "try:\n",
    "    send2trash.send2trash('scraped images')\n",
    "except FileNotFoundError:\n",
    "    print(\"Folder does not exist.\")  \n",
    "    print('Proceeding to folder creation.')\n",
    "else:\n",
    "    print('Folder successfully created')\n",
    "finally:\n",
    "    os.mkdir('.\\\\scraped images')"
   ]
  },
  {
   "cell_type": "code",
   "execution_count": 118,
   "metadata": {},
   "outputs": [],
   "source": [
    "for image in images:\n",
    "    image_src = 'https:' + image['src']\n",
    "    if re.search(r'[.\\w]+png$', image_src):\n",
    "        image_name = re.search(r'[.\\w]+png$', image_src).group()\n",
    "    elif re.search(r'[.\\w]+jpg$', image_src):\n",
    "        image_name = re.search(r'[.\\w]+jpg$', image_src).group()\n",
    "    image_link = requests.get(image_src)\n",
    "\n",
    "    #write the image contents to a file in the newly created folder\n",
    "\n",
    "    f = open('scraped images\\\\'+image_name, 'wb')\n",
    "    f.write(image_link.content)\n",
    "    f.close()"
   ]
  },
  {
   "cell_type": "code",
   "execution_count": null,
   "metadata": {},
   "outputs": [],
   "source": []
  }
 ],
 "metadata": {
  "kernelspec": {
   "display_name": "Python 3",
   "language": "python",
   "name": "python3"
  },
  "language_info": {
   "codemirror_mode": {
    "name": "ipython",
    "version": 3
   },
   "file_extension": ".py",
   "mimetype": "text/x-python",
   "name": "python",
   "nbconvert_exporter": "python",
   "pygments_lexer": "ipython3",
   "version": "3.12.6"
  }
 },
 "nbformat": 4,
 "nbformat_minor": 2
}
