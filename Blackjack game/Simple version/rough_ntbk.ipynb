{
 "cells": [
  {
   "cell_type": "code",
   "execution_count": 4,
   "id": "c2c8fbaa",
   "metadata": {},
   "outputs": [],
   "source": [
    "cards = [11,2,3,4,5,6,7,8,9,10,10,10,10]"
   ]
  },
  {
   "cell_type": "code",
   "execution_count": 5,
   "id": "b9051023",
   "metadata": {},
   "outputs": [],
   "source": [
    "import random"
   ]
  },
  {
   "cell_type": "code",
   "execution_count": 6,
   "id": "3be33fe4",
   "metadata": {},
   "outputs": [],
   "source": [
    "def deal_one(cards):\n",
    "    return random.choice(cards)"
   ]
  },
  {
   "cell_type": "code",
   "execution_count": 24,
   "id": "fcd95858",
   "metadata": {},
   "outputs": [
    {
     "name": "stdout",
     "output_type": "stream",
     "text": [
      "[10, 2] [10, 10]\n"
     ]
    }
   ],
   "source": [
    "dealer = []\n",
    "player = []\n",
    "for _ in range(2):\n",
    "    dealer.append(deal_one(cards))\n",
    "    player.append(deal_one(cards))\n",
    "\n",
    "print(dealer,player)"
   ]
  },
  {
   "cell_type": "code",
   "execution_count": 12,
   "id": "30c628e7",
   "metadata": {},
   "outputs": [
    {
     "name": "stdout",
     "output_type": "stream",
     "text": [
      "[8, 6] total = 14\n"
     ]
    }
   ],
   "source": [
    "def show_total(cards = []):\n",
    "    return sum(cards)\n",
    "\n",
    "c = [deal_one(cards) for _ in range(2)]\n",
    "\n",
    "print(f'{c} total = {show_total(c)}')"
   ]
  },
  {
   "cell_type": "code",
   "execution_count": 19,
   "id": "44ce4b5a",
   "metadata": {},
   "outputs": [
    {
     "name": "stdout",
     "output_type": "stream",
     "text": [
      "\n",
      ".------.            _     _            _    _            _    \n",
      "|A_  _ |.          | |   | |          | |  (_)          | |   \n",
      "|( \\/ ).-----.     | |__ | | __ _  ___| | ___  __ _  ___| | __\n",
      "| \\  /|K /\\  |     | '_ \\| |/ _` |/ __| |/ / |/ _` |/ __| |/ /\n",
      "|  \\/ | /  \\ |     | |_) | | (_| | (__|   <| | (_| | (__|   < \n",
      "`-----| \\  / |     |_.__/|_|\\__,_|\\___|_|\\_\\ |\\__,_|\\___|_|\\_\\\\\n",
      "      |  \\/ K|                            _/ |                \n",
      "      `------'                           |__/           \n",
      "\n"
     ]
    }
   ],
   "source": [
    "from blackjack_art import logo\n",
    "\n",
    "print(logo)"
   ]
  },
  {
   "cell_type": "code",
   "execution_count": 14,
   "id": "1ac22797",
   "metadata": {},
   "outputs": [
    {
     "name": "stdout",
     "output_type": "stream",
     "text": [
      "[11, 3, 8] 22\n"
     ]
    }
   ],
   "source": [
    "another_card = input(\"Type 'y' to get another card, 'n' to pass: \").upper()\n",
    "\n",
    "if another_card[0] == 'Y':\n",
    "    player.append(deal_one(cards))\n",
    "\n",
    "print(player, show_total(player))"
   ]
  },
  {
   "cell_type": "code",
   "execution_count": 23,
   "id": "d4248afe",
   "metadata": {},
   "outputs": [],
   "source": [
    "def bust(player):\n",
    "\n",
    "    if show_total(player) > 21:\n",
    "        return True"
   ]
  },
  {
   "cell_type": "code",
   "execution_count": null,
   "id": "9eb97cd0",
   "metadata": {},
   "outputs": [
    {
     "name": "stdout",
     "output_type": "stream",
     "text": [
      "Your cards: [10, 10], Current score: 20\n",
      "Computer's first card: 10\n"
     ]
    }
   ],
   "source": [
    "while True:\n",
    "    \n",
    "    while True:\n",
    "        \n",
    "        print(f'Your cards: {player}, Current score: {show_total(player)}')\n",
    "        print(f\"Computer's first card: {dealer[0]}\")\n",
    "\n",
    "        another_card = input(\"Type 'y' to get another card, 'n' to pass: \").upper()\n",
    "\n",
    "        if another_card[0] == 'Y':\n",
    "            player.append(deal_one(cards))\n",
    "\n",
    "            if bust(player):\n",
    "                print('You went over. Computer wins.')\n",
    "                break\n",
    "        else:\n",
    "            while show_total(dealer) < 17:\n",
    "                dealer.append(deal_one(cards))\n",
    "\n",
    "            if bust(dealer):\n",
    "                print('Computer went over. Player wins.')\n",
    "            break\n",
    "    break\n",
    "    "
   ]
  }
 ],
 "metadata": {
  "kernelspec": {
   "display_name": "Python 3",
   "language": "python",
   "name": "python3"
  },
  "language_info": {
   "codemirror_mode": {
    "name": "ipython",
    "version": 3
   },
   "file_extension": ".py",
   "mimetype": "text/x-python",
   "name": "python",
   "nbconvert_exporter": "python",
   "pygments_lexer": "ipython3",
   "version": "3.12.6"
  }
 },
 "nbformat": 4,
 "nbformat_minor": 5
}
